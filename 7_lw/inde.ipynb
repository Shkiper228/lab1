{
 "cells": [
  {
   "cell_type": "code",
   "execution_count": 1,
   "metadata": {},
   "outputs": [
    {
     "ename": "AssertionError",
     "evalue": "число має бути більшим за нуль!",
     "output_type": "error",
     "traceback": [
      "\u001b[1;31m---------------------------------------------------------------------------\u001b[0m",
      "\u001b[1;31mAssertionError\u001b[0m                            Traceback (most recent call last)",
      "Cell \u001b[1;32mIn [1], line 2\u001b[0m\n\u001b[0;32m      1\u001b[0m number \u001b[38;5;241m=\u001b[39m \u001b[38;5;241m-\u001b[39m\u001b[38;5;241m1\u001b[39m\n\u001b[1;32m----> 2\u001b[0m \u001b[38;5;28;01massert\u001b[39;00m number \u001b[38;5;241m>\u001b[39m \u001b[38;5;241m0\u001b[39m, \u001b[38;5;124m\"\u001b[39m\u001b[38;5;124mчисло має бути більшим за нуль!\u001b[39m\u001b[38;5;124m\"\u001b[39m\n",
      "\u001b[1;31mAssertionError\u001b[0m: число має бути більшим за нуль!"
     ]
    }
   ],
   "source": [
    "number = -1\n",
    "assert number > 0, \"число має бути більшим за нуль!\""
   ]
  },
  {
   "cell_type": "code",
   "execution_count": null,
   "metadata": {},
   "outputs": [],
   "source": [
    "a = input(\"Введіть число: \")\n",
    "assert a.isdigit(), \"Потрібно ввести число!\"\n",
    "print(f\"введене число: {a}\")"
   ]
  },
  {
   "cell_type": "code",
   "execution_count": null,
   "metadata": {},
   "outputs": [],
   "source": [
    "class Figure:\n",
    "    def __init__(self, type, length) -> None:\n",
    "        assert length > 0, \"Довжина має бути більшою за 0!\"\n",
    "        assert type in [\"квадрат\", \"прямокутник\", \"трикутник\"], \"Дозволені фігури: квадрат, прямокутник, трикутник\"\n",
    "        self.type = type\n",
    "        self.length = length\n",
    "\n",
    "#a = Figure(\"трапеція\", 12)\n",
    "#b = Figure(\"квадрат\", 0)\n",
    "c = Figure(\"квадрат\", 1)"
   ]
  }
 ],
 "metadata": {
  "kernelspec": {
   "display_name": "Python 3.10.8 64-bit",
   "language": "python",
   "name": "python3"
  },
  "language_info": {
   "codemirror_mode": {
    "name": "ipython",
    "version": 3
   },
   "file_extension": ".py",
   "mimetype": "text/x-python",
   "name": "python",
   "nbconvert_exporter": "python",
   "pygments_lexer": "ipython3",
   "version": "3.10.8"
  },
  "orig_nbformat": 4,
  "vscode": {
   "interpreter": {
    "hash": "4ec944a75e81fad46d11761c4975dc31449b75968e2e0b140e80951c3e03745c"
   }
  }
 },
 "nbformat": 4,
 "nbformat_minor": 2
}
